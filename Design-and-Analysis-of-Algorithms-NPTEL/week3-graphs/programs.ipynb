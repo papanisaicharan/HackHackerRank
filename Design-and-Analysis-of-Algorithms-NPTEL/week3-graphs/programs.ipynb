{
 "metadata": {
  "language_info": {
   "codemirror_mode": {
    "name": "ipython",
    "version": 3
   },
   "file_extension": ".py",
   "mimetype": "text/x-python",
   "name": "python",
   "nbconvert_exporter": "python",
   "pygments_lexer": "ipython3",
   "version": "3.9.1"
  },
  "orig_nbformat": 2,
  "kernelspec": {
   "name": "python391jvsc74a57bd063fd5069d213b44bf678585dea6b12cceca9941eaf7f819626cde1f2670de90d",
   "display_name": "Python 3.9.1 64-bit"
  },
  "metadata": {
   "interpreter": {
    "hash": "63fd5069d213b44bf678585dea6b12cceca9941eaf7f819626cde1f2670de90d"
   }
  }
 },
 "nbformat": 4,
 "nbformat_minor": 2,
 "cells": [
  {
   "cell_type": "code",
   "execution_count": 10,
   "metadata": {},
   "outputs": [
    {
     "output_type": "stream",
     "name": "stdout",
     "text": [
      "current Node:  2\ncurrent Node:  0\ncurrent Node:  1\ncurrent Node:  3\nvisited:  [1, 1, 1, 1]\nparents :  [2, 0, -1, 2]\n"
     ]
    }
   ],
   "source": [
    "# Depth first search\n",
    "def dfs(i):\n",
    "    global visited\n",
    "    global parent\n",
    "    global adj\n",
    "    visited[i] = 1\n",
    "    print(\"current Node: \",i)\n",
    "    for neighbour in adj[i]:\n",
    "        if visited[neighbour] == 0:\n",
    "            visited[neighbour] = 1\n",
    "            parent[neighbour] = i\n",
    "            dfs(neighbour)\n",
    "adj = {0: [1, 2], 1: [2], 2: [0, 3], 3: [3]}\n",
    "visited = [0] * len(adj)\n",
    "parent = [-1] * len(adj)\n",
    "dfs(2)\n",
    "# 2 is the root node here\n",
    "print(\"visited: \", visited)\n",
    "print(\"parents : \",parent )"
   ]
  },
  {
   "cell_type": "code",
   "execution_count": null,
   "metadata": {},
   "outputs": [],
   "source": []
  },
  {
   "cell_type": "code",
   "execution_count": null,
   "metadata": {},
   "outputs": [],
   "source": []
  },
  {
   "cell_type": "code",
   "execution_count": null,
   "metadata": {},
   "outputs": [],
   "source": []
  },
  {
   "cell_type": "code",
   "execution_count": null,
   "metadata": {},
   "outputs": [],
   "source": []
  },
  {
   "cell_type": "code",
   "execution_count": null,
   "metadata": {},
   "outputs": [],
   "source": []
  },
  {
   "cell_type": "code",
   "execution_count": null,
   "metadata": {},
   "outputs": [],
   "source": []
  },
  {
   "cell_type": "code",
   "execution_count": null,
   "metadata": {},
   "outputs": [],
   "source": []
  },
  {
   "cell_type": "code",
   "execution_count": null,
   "metadata": {},
   "outputs": [],
   "source": []
  },
  {
   "cell_type": "code",
   "execution_count": null,
   "metadata": {},
   "outputs": [],
   "source": []
  },
  {
   "cell_type": "code",
   "execution_count": null,
   "metadata": {},
   "outputs": [],
   "source": []
  }
 ]
}